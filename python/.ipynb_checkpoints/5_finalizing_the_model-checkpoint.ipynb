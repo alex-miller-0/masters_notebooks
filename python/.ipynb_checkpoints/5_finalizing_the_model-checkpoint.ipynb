{
 "cells": [
  {
   "cell_type": "markdown",
   "metadata": {
    "collapsed": true
   },
   "source": [
    "# Analyzing SOFC data (part 5)"
   ]
  },
  {
   "cell_type": "markdown",
   "metadata": {},
   "source": [
    "##5) Finalizing the model\n",
    "So far, I am only confident that two features should be in the model: average electron affinity and average d-count for the B-cation. I have ruled out the parent features and now look only at the average features. I have no yet completely ruled out tolerance factor and critical radius, but I don't believe they will add much.\n",
    "\n",
    "So what subset of features do I choose for my model?\n",
    "\n",
    "In this notebook, I will determine the best subset of features by only allowing features that contribute at least 0.05 to the average model score after electron affinity and d-electron count have been added to it. At the time of this writing, sklearn has not implemented a best subset feature selection methodology, so I will have to build one myself. If I had many features, I would write a function to do this recursively, but because I only have a few, I believe it would be more efficient and more instructive to do it step-by-step."
   ]
  },
  {
   "cell_type": "code",
   "execution_count": 1,
   "metadata": {
    "collapsed": false
   },
   "outputs": [],
   "source": [
    "import matplotlib.pyplot as plt\n",
    "import numpy as np\n",
    "import csv\n",
    "import math\n",
    "import pandas as pd\n",
    "import time\n",
    "%matplotlib inline\n",
    "from sklearn import cross_validation\n",
    "from sklearn.preprocessing import PolynomialFeatures\n",
    "from sklearn.pipeline import make_pipeline\n",
    "from sklearn.linear_model import Ridge\n",
    "from sklearn.feature_selection import RFE\n",
    "\n",
    "from sofc_func import *"
   ]
  },
  {
   "cell_type": "code",
   "execution_count": 2,
   "metadata": {
    "collapsed": false
   },
   "outputs": [],
   "source": [
    "# Import using pandas\n",
    "df = pd.read_csv(\"data.csv\")\n",
    "\n",
    "# Clean out rows where there is no parent A or parent B\n",
    "\n",
    "data = df[pd.notnull(df['A_par']) & pd.notnull(df['B_par']) & pd.notnull(df['d_star']) & pd.notnull(df['k_star']) \n",
    "             & pd.notnull(df['e affinity(B)']) & pd.notnull(df['d-electron count (B)'])]\n",
    "\n",
    "pd.options.mode.chained_assignment = None\n",
    "\n",
    "data = features(df)\n",
    "\n",
    "data['dk_star'] = pd.Series(dk_star(data,1000), index=df.index)"
   ]
  },
  {
   "cell_type": "code",
   "execution_count": 3,
   "metadata": {
    "collapsed": false
   },
   "outputs": [],
   "source": [
    "f = df[pd.notnull(data['EA_A']) & pd.notnull(data['EA_B']) & pd.notnull(data['r_A'])\n",
    "          & pd.notnull(data['r_B']) & pd.notnull(data['d_count_B']) & pd.notnull(data['avg_EA_A'])\n",
    "          & pd.notnull(data['avg_EA_B']) & pd.notnull(data['avg_r_A']) & pd.notnull(data['avg_r_B'])\n",
    "          & pd.notnull(data['avg_d_count_B']) & pd.notnull(data['dk_star'])]\n",
    "\n",
    "X = f[ ['avg_EA_B', 'avg_d_count_B'] ]\n",
    "y = f['dk_star']\n",
    "features = f[ ['avg_EA_A', 'avg_r_A','avg_r_B', 'tol_factor', 'r_critical' ]]"
   ]
  },
  {
   "cell_type": "markdown",
   "metadata": {},
   "source": [
    "I will attempt to add more features to the model. Only those that boost the score by 0.04 or more will be added. Note that this will take a long time to run!"
   ]
  },
  {
   "cell_type": "code",
   "execution_count": 5,
   "metadata": {
    "collapsed": false
   },
   "outputs": [
    {
     "name": "stdout",
     "output_type": "stream",
     "text": [
      "Determining if a feature can be added. This may take a few minutes.\n",
      "Could not add avg_EA_A to the model because its change on score was -0.0118375925323 (14.138491s)\n",
      "Could not add avg_r_A to the model because its change on score was 0.00482693841644 (16.809758s)\n",
      "Could not add avg_r_B to the model because its change on score was -0.041283013976 (13.023931s)\n",
      "Could not add tol_factor to the model because its change on score was -0.0122178551787 (16.33316s)\n",
      "Could not add r_critical to the model because its change on score was 0.0104444538935 (16.215799s)\n",
      "Could not add any features to the model.\n",
      "Executed in  84.051801 s\n"
     ]
    }
   ],
   "source": [
    "new = add_feature(X, np.array([y]).T, features, 0.04, 100)"
   ]
  },
  {
   "cell_type": "markdown",
   "metadata": {
    "collapsed": true
   },
   "source": [
    "Looks like nothing adds any predictability to the model. I guess this will be a short notebook."
   ]
  },
  {
   "cell_type": "markdown",
   "metadata": {},
   "source": [
    "#Conclusion:\n",
    "The two features avg_EA_B and avg_d_count are the only features I need to explain variation at 1000K. In the next notebook, I will start looking at how the model holds up at lower temperatures. The goal of this analysis is to show what makes for a good SOFC material at medium and low temperatures."
   ]
  }
 ],
 "metadata": {
  "kernelspec": {
   "display_name": "Python 2",
   "language": "python",
   "name": "python2"
  },
  "language_info": {
   "codemirror_mode": {
    "name": "ipython",
    "version": 2
   },
   "file_extension": ".py",
   "mimetype": "text/x-python",
   "name": "python",
   "nbconvert_exporter": "python",
   "pygments_lexer": "ipython2",
   "version": "2.7.8"
  }
 },
 "nbformat": 4,
 "nbformat_minor": 0
}

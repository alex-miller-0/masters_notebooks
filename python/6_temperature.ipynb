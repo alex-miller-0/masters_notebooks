{
 "cells": [
  {
   "cell_type": "markdown",
   "metadata": {},
   "source": [
    "# Analyzing SOFC data (part 6)"
   ]
  },
  {
   "cell_type": "markdown",
   "metadata": {},
   "source": [
    "##5) Adding the temperature dimension\n",
    "D\\* and k\\* are both thermally activated coefficients, meaning they are always much higher at higher temperatures. Diffusion at low temperatures is much slower because atoms vibrate with lower amplitude and this makes it tougher for ions to flow through the crystals. However, low temperatures are much more practical from an engineering standpoint because the stress on the systems is much lower and mechanical failure takes much longer to arise.\n",
    "\n",
    "In this notebook I will extend my model, currently only analyzed at 1000K, to lower temperatures and see how well it holds up."
   ]
  }
 ],
 "metadata": {
  "kernelspec": {
   "display_name": "Python 2",
   "language": "python",
   "name": "python2"
  },
  "language_info": {
   "codemirror_mode": {
    "name": "ipython",
    "version": 2
   },
   "file_extension": ".py",
   "mimetype": "text/x-python",
   "name": "python",
   "nbconvert_exporter": "python",
   "pygments_lexer": "ipython2",
   "version": "2.7.8"
  }
 },
 "nbformat": 4,
 "nbformat_minor": 0
}
